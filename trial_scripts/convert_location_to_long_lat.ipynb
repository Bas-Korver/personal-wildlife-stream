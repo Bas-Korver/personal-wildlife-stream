{
 "cells": [
  {
   "cell_type": "code",
   "id": "initial_id",
   "metadata": {
    "collapsed": true,
    "ExecuteTime": {
     "end_time": "2024-05-16T09:21:07.174054Z",
     "start_time": "2024-05-16T09:21:07.171995Z"
    }
   },
   "source": "from geopy.geocoders import Nominatim",
   "outputs": [],
   "execution_count": 5
  },
  {
   "metadata": {
    "ExecuteTime": {
     "end_time": "2024-05-16T09:21:07.521844Z",
     "start_time": "2024-05-16T09:21:07.508504Z"
    }
   },
   "cell_type": "code",
   "source": "loc = Nominatim(user_agent=\"Geopy Library\")",
   "id": "ca9aa6386885169c",
   "outputs": [],
   "execution_count": 6
  },
  {
   "metadata": {
    "ExecuteTime": {
     "end_time": "2024-05-16T09:22:55.864597Z",
     "start_time": "2024-05-16T09:22:55.535782Z"
    }
   },
   "cell_type": "code",
   "source": "getLoc = loc.geocode(\"Red Panda Forest Park, China\")",
   "id": "59b08d42e2a96e3c",
   "outputs": [],
   "execution_count": 11
  },
  {
   "metadata": {
    "ExecuteTime": {
     "end_time": "2024-05-16T09:22:55.883525Z",
     "start_time": "2024-05-16T09:22:55.874554Z"
    }
   },
   "cell_type": "code",
   "source": [
    "print(getLoc.address)\n",
    "print(\"Latitude = \", getLoc.latitude, \"\\n\")\n",
    "print(\"Longitude = \", getLoc.longitude)"
   ],
   "id": "5603a262b2043902",
   "outputs": [
    {
     "ename": "AttributeError",
     "evalue": "'NoneType' object has no attribute 'address'",
     "output_type": "error",
     "traceback": [
      "\u001B[1;31m---------------------------------------------------------------------------\u001B[0m",
      "\u001B[1;31mAttributeError\u001B[0m                            Traceback (most recent call last)",
      "Cell \u001B[1;32mIn[12], line 1\u001B[0m\n\u001B[1;32m----> 1\u001B[0m \u001B[38;5;28mprint\u001B[39m(getLoc\u001B[38;5;241m.\u001B[39maddress)\n\u001B[0;32m      2\u001B[0m \u001B[38;5;28mprint\u001B[39m(\u001B[38;5;124m\"\u001B[39m\u001B[38;5;124mLatitude = \u001B[39m\u001B[38;5;124m\"\u001B[39m, getLoc\u001B[38;5;241m.\u001B[39mlatitude, \u001B[38;5;124m\"\u001B[39m\u001B[38;5;130;01m\\n\u001B[39;00m\u001B[38;5;124m\"\u001B[39m)\n\u001B[0;32m      3\u001B[0m \u001B[38;5;28mprint\u001B[39m(\u001B[38;5;124m\"\u001B[39m\u001B[38;5;124mLongitude = \u001B[39m\u001B[38;5;124m\"\u001B[39m, getLoc\u001B[38;5;241m.\u001B[39mlongitude)\n",
      "\u001B[1;31mAttributeError\u001B[0m: 'NoneType' object has no attribute 'address'"
     ]
    }
   ],
   "execution_count": 12
  },
  {
   "metadata": {},
   "cell_type": "code",
   "outputs": [],
   "execution_count": null,
   "source": "",
   "id": "2eda065aa1584dc0"
  }
 ],
 "metadata": {
  "kernelspec": {
   "display_name": "Python 3",
   "language": "python",
   "name": "python3"
  },
  "language_info": {
   "codemirror_mode": {
    "name": "ipython",
    "version": 2
   },
   "file_extension": ".py",
   "mimetype": "text/x-python",
   "name": "python",
   "nbconvert_exporter": "python",
   "pygments_lexer": "ipython2",
   "version": "2.7.6"
  }
 },
 "nbformat": 4,
 "nbformat_minor": 5
}

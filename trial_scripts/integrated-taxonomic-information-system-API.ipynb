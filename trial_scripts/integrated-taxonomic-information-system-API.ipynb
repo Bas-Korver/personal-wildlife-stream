{
 "cells": [
  {
   "metadata": {},
   "cell_type": "markdown",
   "source": "# https://www.itis.gov/web_service.html",
   "id": "96f4989bdc31be4b"
  },
  {
   "metadata": {
    "ExecuteTime": {
     "end_time": "2024-06-27T18:13:12.932503Z",
     "start_time": "2024-06-27T18:13:12.705805Z"
    }
   },
   "cell_type": "code",
   "source": [
    "import requests\n",
    "from difflib import SequenceMatcher"
   ],
   "id": "b2401e275ad18ec3",
   "outputs": [],
   "execution_count": 1
  },
  {
   "metadata": {
    "ExecuteTime": {
     "end_time": "2024-06-27T18:16:46.044863Z",
     "start_time": "2024-06-27T18:16:46.042923Z"
    }
   },
   "cell_type": "code",
   "source": "search = \"bears\"",
   "id": "b423fb3f3cd5029",
   "outputs": [],
   "execution_count": 10
  },
  {
   "metadata": {
    "ExecuteTime": {
     "end_time": "2024-06-27T18:16:08.488925Z",
     "start_time": "2024-06-27T18:16:07.614411Z"
    }
   },
   "cell_type": "code",
   "source": "requests.get(f\"http://www.itis.gov/ITISWebService/jsonservice/searchByCommonName?srchKey={search}\").json()",
   "id": "dfe68c0a1b4393a2",
   "outputs": [
    {
     "ename": "JSONDecodeError",
     "evalue": "Expecting value: line 1 column 1 (char 0)",
     "output_type": "error",
     "traceback": [
      "\u001B[1;31m---------------------------------------------------------------------------\u001B[0m",
      "\u001B[1;31mJSONDecodeError\u001B[0m                           Traceback (most recent call last)",
      "File \u001B[1;32m~\\miniconda3\\envs\\personal_wildlife_stream\\Lib\\site-packages\\requests\\models.py:974\u001B[0m, in \u001B[0;36mResponse.json\u001B[1;34m(self, **kwargs)\u001B[0m\n\u001B[0;32m    973\u001B[0m \u001B[38;5;28;01mtry\u001B[39;00m:\n\u001B[1;32m--> 974\u001B[0m     \u001B[38;5;28;01mreturn\u001B[39;00m \u001B[43mcomplexjson\u001B[49m\u001B[38;5;241;43m.\u001B[39;49m\u001B[43mloads\u001B[49m\u001B[43m(\u001B[49m\u001B[38;5;28;43mself\u001B[39;49m\u001B[38;5;241;43m.\u001B[39;49m\u001B[43mtext\u001B[49m\u001B[43m,\u001B[49m\u001B[43m \u001B[49m\u001B[38;5;241;43m*\u001B[39;49m\u001B[38;5;241;43m*\u001B[39;49m\u001B[43mkwargs\u001B[49m\u001B[43m)\u001B[49m\n\u001B[0;32m    975\u001B[0m \u001B[38;5;28;01mexcept\u001B[39;00m JSONDecodeError \u001B[38;5;28;01mas\u001B[39;00m e:\n\u001B[0;32m    976\u001B[0m     \u001B[38;5;66;03m# Catch JSON-related errors and raise as requests.JSONDecodeError\u001B[39;00m\n\u001B[0;32m    977\u001B[0m     \u001B[38;5;66;03m# This aliases json.JSONDecodeError and simplejson.JSONDecodeError\u001B[39;00m\n",
      "File \u001B[1;32m~\\miniconda3\\envs\\personal_wildlife_stream\\Lib\\json\\__init__.py:346\u001B[0m, in \u001B[0;36mloads\u001B[1;34m(s, cls, object_hook, parse_float, parse_int, parse_constant, object_pairs_hook, **kw)\u001B[0m\n\u001B[0;32m    343\u001B[0m \u001B[38;5;28;01mif\u001B[39;00m (\u001B[38;5;28mcls\u001B[39m \u001B[38;5;129;01mis\u001B[39;00m \u001B[38;5;28;01mNone\u001B[39;00m \u001B[38;5;129;01mand\u001B[39;00m object_hook \u001B[38;5;129;01mis\u001B[39;00m \u001B[38;5;28;01mNone\u001B[39;00m \u001B[38;5;129;01mand\u001B[39;00m\n\u001B[0;32m    344\u001B[0m         parse_int \u001B[38;5;129;01mis\u001B[39;00m \u001B[38;5;28;01mNone\u001B[39;00m \u001B[38;5;129;01mand\u001B[39;00m parse_float \u001B[38;5;129;01mis\u001B[39;00m \u001B[38;5;28;01mNone\u001B[39;00m \u001B[38;5;129;01mand\u001B[39;00m\n\u001B[0;32m    345\u001B[0m         parse_constant \u001B[38;5;129;01mis\u001B[39;00m \u001B[38;5;28;01mNone\u001B[39;00m \u001B[38;5;129;01mand\u001B[39;00m object_pairs_hook \u001B[38;5;129;01mis\u001B[39;00m \u001B[38;5;28;01mNone\u001B[39;00m \u001B[38;5;129;01mand\u001B[39;00m \u001B[38;5;129;01mnot\u001B[39;00m kw):\n\u001B[1;32m--> 346\u001B[0m     \u001B[38;5;28;01mreturn\u001B[39;00m \u001B[43m_default_decoder\u001B[49m\u001B[38;5;241;43m.\u001B[39;49m\u001B[43mdecode\u001B[49m\u001B[43m(\u001B[49m\u001B[43ms\u001B[49m\u001B[43m)\u001B[49m\n\u001B[0;32m    347\u001B[0m \u001B[38;5;28;01mif\u001B[39;00m \u001B[38;5;28mcls\u001B[39m \u001B[38;5;129;01mis\u001B[39;00m \u001B[38;5;28;01mNone\u001B[39;00m:\n",
      "File \u001B[1;32m~\\miniconda3\\envs\\personal_wildlife_stream\\Lib\\json\\decoder.py:337\u001B[0m, in \u001B[0;36mJSONDecoder.decode\u001B[1;34m(self, s, _w)\u001B[0m\n\u001B[0;32m    333\u001B[0m \u001B[38;5;250m\u001B[39m\u001B[38;5;124;03m\"\"\"Return the Python representation of ``s`` (a ``str`` instance\u001B[39;00m\n\u001B[0;32m    334\u001B[0m \u001B[38;5;124;03mcontaining a JSON document).\u001B[39;00m\n\u001B[0;32m    335\u001B[0m \n\u001B[0;32m    336\u001B[0m \u001B[38;5;124;03m\"\"\"\u001B[39;00m\n\u001B[1;32m--> 337\u001B[0m obj, end \u001B[38;5;241m=\u001B[39m \u001B[38;5;28;43mself\u001B[39;49m\u001B[38;5;241;43m.\u001B[39;49m\u001B[43mraw_decode\u001B[49m\u001B[43m(\u001B[49m\u001B[43ms\u001B[49m\u001B[43m,\u001B[49m\u001B[43m \u001B[49m\u001B[43midx\u001B[49m\u001B[38;5;241;43m=\u001B[39;49m\u001B[43m_w\u001B[49m\u001B[43m(\u001B[49m\u001B[43ms\u001B[49m\u001B[43m,\u001B[49m\u001B[43m \u001B[49m\u001B[38;5;241;43m0\u001B[39;49m\u001B[43m)\u001B[49m\u001B[38;5;241;43m.\u001B[39;49m\u001B[43mend\u001B[49m\u001B[43m(\u001B[49m\u001B[43m)\u001B[49m\u001B[43m)\u001B[49m\n\u001B[0;32m    338\u001B[0m end \u001B[38;5;241m=\u001B[39m _w(s, end)\u001B[38;5;241m.\u001B[39mend()\n",
      "File \u001B[1;32m~\\miniconda3\\envs\\personal_wildlife_stream\\Lib\\json\\decoder.py:355\u001B[0m, in \u001B[0;36mJSONDecoder.raw_decode\u001B[1;34m(self, s, idx)\u001B[0m\n\u001B[0;32m    354\u001B[0m \u001B[38;5;28;01mexcept\u001B[39;00m \u001B[38;5;167;01mStopIteration\u001B[39;00m \u001B[38;5;28;01mas\u001B[39;00m err:\n\u001B[1;32m--> 355\u001B[0m     \u001B[38;5;28;01mraise\u001B[39;00m JSONDecodeError(\u001B[38;5;124m\"\u001B[39m\u001B[38;5;124mExpecting value\u001B[39m\u001B[38;5;124m\"\u001B[39m, s, err\u001B[38;5;241m.\u001B[39mvalue) \u001B[38;5;28;01mfrom\u001B[39;00m \u001B[38;5;28;01mNone\u001B[39;00m\n\u001B[0;32m    356\u001B[0m \u001B[38;5;28;01mreturn\u001B[39;00m obj, end\n",
      "\u001B[1;31mJSONDecodeError\u001B[0m: Expecting value: line 1 column 1 (char 0)",
      "\nDuring handling of the above exception, another exception occurred:\n",
      "\u001B[1;31mJSONDecodeError\u001B[0m                           Traceback (most recent call last)",
      "Cell \u001B[1;32mIn[9], line 1\u001B[0m\n\u001B[1;32m----> 1\u001B[0m \u001B[43mrequests\u001B[49m\u001B[38;5;241;43m.\u001B[39;49m\u001B[43mget\u001B[49m\u001B[43m(\u001B[49m\u001B[38;5;124;43mf\u001B[39;49m\u001B[38;5;124;43m\"\u001B[39;49m\u001B[38;5;124;43mhttp://www.itis.gov/ITISWebService/jsonservice/searchByCommonName?srchKey=\u001B[39;49m\u001B[38;5;132;43;01m{\u001B[39;49;00m\u001B[43msearch\u001B[49m\u001B[38;5;132;43;01m}\u001B[39;49;00m\u001B[38;5;124;43m\"\u001B[39;49m\u001B[43m)\u001B[49m\u001B[38;5;241;43m.\u001B[39;49m\u001B[43mjson\u001B[49m\u001B[43m(\u001B[49m\u001B[43m)\u001B[49m\n",
      "File \u001B[1;32m~\\miniconda3\\envs\\personal_wildlife_stream\\Lib\\site-packages\\requests\\models.py:978\u001B[0m, in \u001B[0;36mResponse.json\u001B[1;34m(self, **kwargs)\u001B[0m\n\u001B[0;32m    974\u001B[0m     \u001B[38;5;28;01mreturn\u001B[39;00m complexjson\u001B[38;5;241m.\u001B[39mloads(\u001B[38;5;28mself\u001B[39m\u001B[38;5;241m.\u001B[39mtext, \u001B[38;5;241m*\u001B[39m\u001B[38;5;241m*\u001B[39mkwargs)\n\u001B[0;32m    975\u001B[0m \u001B[38;5;28;01mexcept\u001B[39;00m JSONDecodeError \u001B[38;5;28;01mas\u001B[39;00m e:\n\u001B[0;32m    976\u001B[0m     \u001B[38;5;66;03m# Catch JSON-related errors and raise as requests.JSONDecodeError\u001B[39;00m\n\u001B[0;32m    977\u001B[0m     \u001B[38;5;66;03m# This aliases json.JSONDecodeError and simplejson.JSONDecodeError\u001B[39;00m\n\u001B[1;32m--> 978\u001B[0m     \u001B[38;5;28;01mraise\u001B[39;00m RequestsJSONDecodeError(e\u001B[38;5;241m.\u001B[39mmsg, e\u001B[38;5;241m.\u001B[39mdoc, e\u001B[38;5;241m.\u001B[39mpos)\n",
      "\u001B[1;31mJSONDecodeError\u001B[0m: Expecting value: line 1 column 1 (char 0)"
     ]
    }
   ],
   "execution_count": 9
  },
  {
   "metadata": {
    "ExecuteTime": {
     "end_time": "2024-06-27T18:16:47.840761Z",
     "start_time": "2024-06-27T18:16:47.311180Z"
    }
   },
   "cell_type": "code",
   "source": [
    "data = requests.get(f\"https://www.itis.gov/ITISWebService/jsonservice/getITISTermsFromCommonName?srchKey={search}\").content\n",
    "data"
   ],
   "id": "3bda9b135b7d1623",
   "outputs": [
    {
     "data": {
      "text/plain": [
       "b''"
      ]
     },
     "execution_count": 11,
     "metadata": {},
     "output_type": "execute_result"
    }
   ],
   "execution_count": 11
  },
  {
   "metadata": {
    "ExecuteTime": {
     "end_time": "2024-06-23T14:29:36.053677Z",
     "start_time": "2024-06-23T14:29:36.050242Z"
    }
   },
   "cell_type": "code",
   "source": [
    "pruned_data = [x for x in data['itisTerms'] if x['commonNames'][0] is not None]\n",
    "pruned_data"
   ],
   "id": "a4e9b2eac793bc8e",
   "outputs": [
    {
     "data": {
      "text/plain": [
       "[{'author': 'Linnaeus, 1758',\n",
       "  'class': 'gov.usgs.itis.itis_service.data.SvcItisTerm',\n",
       "  'commonNames': ['domestic dog', 'domestic dog (feral)'],\n",
       "  'nameUsage': 'invalid',\n",
       "  'scientificName': 'Canis familiaris',\n",
       "  'tsn': '183815'},\n",
       " {'author': 'Linnaeus, 1758',\n",
       "  'class': 'gov.usgs.itis.itis_service.data.SvcItisTerm',\n",
       "  'commonNames': ['domestic dog'],\n",
       "  'nameUsage': 'valid',\n",
       "  'scientificName': 'Canis lupus familiaris',\n",
       "  'tsn': '726821'}]"
      ]
     },
     "execution_count": 364,
     "metadata": {},
     "output_type": "execute_result"
    }
   ],
   "execution_count": 364
  },
  {
   "metadata": {
    "ExecuteTime": {
     "end_time": "2024-06-23T14:29:36.057499Z",
     "start_time": "2024-06-23T14:29:36.054681Z"
    }
   },
   "cell_type": "code",
   "source": [
    "results = [[SequenceMatcher(None, search.lower(), y.lower()).ratio() for y in x['commonNames']] for x in pruned_data]\n",
    "results"
   ],
   "id": "5f8065787389d7b1",
   "outputs": [
    {
     "data": {
      "text/plain": [
       "[[1.0, 0.75], [1.0]]"
      ]
     },
     "execution_count": 365,
     "metadata": {},
     "output_type": "execute_result"
    }
   ],
   "execution_count": 365
  },
  {
   "metadata": {
    "ExecuteTime": {
     "end_time": "2024-06-23T14:29:36.060697Z",
     "start_time": "2024-06-23T14:29:36.058003Z"
    }
   },
   "cell_type": "code",
   "source": [
    "max_value = float('-inf')\n",
    "max_index = (0, 0)\n",
    "max_indexes = []\n",
    "\n",
    "for i, row in enumerate(results):\n",
    "    for j, value in enumerate(row):\n",
    "        if value > max_value:\n",
    "            max_value = value\n",
    "            max_index = (i, j)\n",
    "            max_indexes.append(max_index)"
   ],
   "id": "53b218e50ef0f76f",
   "outputs": [],
   "execution_count": 366
  },
  {
   "metadata": {
    "ExecuteTime": {
     "end_time": "2024-06-23T14:29:36.063676Z",
     "start_time": "2024-06-23T14:29:36.061200Z"
    }
   },
   "cell_type": "code",
   "source": "max_indexes",
   "id": "757c87aa758c4f61",
   "outputs": [
    {
     "data": {
      "text/plain": [
       "[(0, 0)]"
      ]
     },
     "execution_count": 367,
     "metadata": {},
     "output_type": "execute_result"
    }
   ],
   "execution_count": 367
  },
  {
   "metadata": {
    "ExecuteTime": {
     "end_time": "2024-06-23T14:29:36.068106Z",
     "start_time": "2024-06-23T14:29:36.064181Z"
    }
   },
   "cell_type": "code",
   "source": "max_index",
   "id": "4a4d2342a24da563",
   "outputs": [
    {
     "data": {
      "text/plain": [
       "(0, 0)"
      ]
     },
     "execution_count": 368,
     "metadata": {},
     "output_type": "execute_result"
    }
   ],
   "execution_count": 368
  },
  {
   "metadata": {
    "ExecuteTime": {
     "end_time": "2024-06-23T14:29:36.071386Z",
     "start_time": "2024-06-23T14:29:36.068609Z"
    }
   },
   "cell_type": "code",
   "source": "pruned_data[max_index[0]]",
   "id": "d9189c5ad37ce689",
   "outputs": [
    {
     "data": {
      "text/plain": [
       "{'author': 'Linnaeus, 1758',\n",
       " 'class': 'gov.usgs.itis.itis_service.data.SvcItisTerm',\n",
       " 'commonNames': ['domestic dog', 'domestic dog (feral)'],\n",
       " 'nameUsage': 'invalid',\n",
       " 'scientificName': 'Canis familiaris',\n",
       " 'tsn': '183815'}"
      ]
     },
     "execution_count": 369,
     "metadata": {},
     "output_type": "execute_result"
    }
   ],
   "execution_count": 369
  },
  {
   "metadata": {
    "ExecuteTime": {
     "end_time": "2024-06-23T14:29:36.073496Z",
     "start_time": "2024-06-23T14:29:36.071889Z"
    }
   },
   "cell_type": "code",
   "source": [
    "# scientific_data = requests.get(f\"http://www.itis.gov/ITISWebService/jsonservice/getITISTermsFromScientificName?srchKey={pruned_data[max_index[0]]['scientificName']}\").json()\n",
    "# scientific_data"
   ],
   "id": "58c4457c903e7de3",
   "outputs": [],
   "execution_count": 370
  },
  {
   "metadata": {
    "ExecuteTime": {
     "end_time": "2024-06-23T14:29:36.952087Z",
     "start_time": "2024-06-23T14:29:36.074499Z"
    }
   },
   "cell_type": "code",
   "source": [
    "# General info about lion entry but no full taxonomic info\n",
    "requests.get(f\"http://www.itis.gov/ITISWebService/jsonservice/getFullRecordFromTSN?tsn={pruned_data[max_index[0]]['tsn']}\").json()"
   ],
   "id": "c8e141a13b6fce9a",
   "outputs": [
    {
     "data": {
      "text/plain": [
       "{'acceptedNameList': {'acceptedNames': [{'acceptedName': 'Canis lupus familiaris',\n",
       "    'acceptedTsn': '726821',\n",
       "    'author': None,\n",
       "    'class': 'gov.usgs.itis.itis_service.data.SvcAcceptedName'}],\n",
       "  'class': 'gov.usgs.itis.itis_service.data.SvcAcceptedNameList',\n",
       "  'tsn': '183815'},\n",
       " 'class': 'gov.usgs.itis.itis_service.data.SvcFullRecord',\n",
       " 'commentList': {'class': 'gov.usgs.itis.itis_service.data.SvcTaxonCommentList',\n",
       "  'comments': [{'class': 'gov.usgs.itis.itis_service.data.SvcTaxonComment',\n",
       "    'commentDetail': 'See comments under Canis lupus regarding nomenclatural conflicts',\n",
       "    'commentId': '18243',\n",
       "    'commentTimeStamp': '2007-08-15 10:57:25.0',\n",
       "    'commentator': 'David Nicolson - ITIS Data Development Coordinator',\n",
       "    'updateDate': '2007-08-15'}],\n",
       "  'tsn': '183815'},\n",
       " 'commonNameList': {'class': 'gov.usgs.itis.itis_service.data.SvcCommonNameList',\n",
       "  'commonNames': [{'class': 'gov.usgs.itis.itis_service.data.SvcCommonName',\n",
       "    'commonName': 'domestic dog',\n",
       "    'language': 'English',\n",
       "    'tsn': '183815'},\n",
       "   {'class': 'gov.usgs.itis.itis_service.data.SvcCommonName',\n",
       "    'commonName': 'domestic dog (feral)',\n",
       "    'language': 'English',\n",
       "    'tsn': '183815'}],\n",
       "  'tsn': '183815'},\n",
       " 'completenessRating': {'class': 'gov.usgs.itis.itis_service.data.SvcGlobalSpeciesCompleteness',\n",
       "  'completeness': '',\n",
       "  'rankId': 220,\n",
       "  'tsn': '183815'},\n",
       " 'coreMetadata': {'class': 'gov.usgs.itis.itis_service.data.SvcCoreMetadata',\n",
       "  'credRating': 'TWG standards met',\n",
       "  'rankId': 220,\n",
       "  'taxonCoverage': '',\n",
       "  'taxonCurrency': '',\n",
       "  'taxonUsageRating': 'invalid',\n",
       "  'tsn': '183815',\n",
       "  'unacceptReason': 'original name/combination'},\n",
       " 'credibilityRating': {'class': 'gov.usgs.itis.itis_service.data.SvcCredibilityData',\n",
       "  'credRating': 'TWG standards met',\n",
       "  'tsn': '183815'},\n",
       " 'currencyRating': {'class': 'gov.usgs.itis.itis_service.data.SvcCurrencyData',\n",
       "  'rankId': 220,\n",
       "  'taxonCurrency': '',\n",
       "  'tsn': '183815'},\n",
       " 'dateData': {'class': 'gov.usgs.itis.itis_service.data.SvcTaxonDateData',\n",
       "  'initialTimeStamp': '1996-06-13 14:51:08.0',\n",
       "  'tsn': '183815',\n",
       "  'updateDate': '2007-08-15'},\n",
       " 'expertList': {'class': 'gov.usgs.itis.itis_service.data.SvcTaxonExpertList',\n",
       "  'experts': [{'class': 'gov.usgs.itis.itis_service.data.SvcTaxonExpert',\n",
       "    'comment': 'Curator of North American mammals and Chief of Mammal Section, National Biological Service, Smithsonian Institution, National Museum of Natural History, Washington, DC, USA',\n",
       "    'expert': 'Alfred L. Gardner',\n",
       "    'referenceFor': [{'class': 'gov.usgs.itis.itis_service.data.SvcReferenceForElement',\n",
       "      'name': 'Canis familiaris',\n",
       "      'refLanguage': None,\n",
       "      'referredTsn': '183815'}],\n",
       "    'updateDate': '2003-10-28'},\n",
       "   {'class': 'gov.usgs.itis.itis_service.data.SvcTaxonExpert',\n",
       "    'comment': 'Division of Natural Sciences, Bethel College, 1001 W. McKinley Ave., Mishawaka, IN 46545',\n",
       "    'expert': 'W. Christopher Wozencraft',\n",
       "    'referenceFor': [{'class': 'gov.usgs.itis.itis_service.data.SvcReferenceForElement',\n",
       "      'name': 'Canis familiaris',\n",
       "      'refLanguage': None,\n",
       "      'referredTsn': '183815'}],\n",
       "    'updateDate': '2003-10-28'}],\n",
       "  'tsn': '183815'},\n",
       " 'geographicDivisionList': {'class': 'gov.usgs.itis.itis_service.data.SvcTaxonGeoDivisionList',\n",
       "  'geoDivisions': [None],\n",
       "  'tsn': '183815'},\n",
       " 'hierarchyUp': {'author': None,\n",
       "  'class': 'gov.usgs.itis.itis_service.data.SvcHierarchyRecord',\n",
       "  'parentName': None,\n",
       "  'parentTsn': None,\n",
       "  'rankName': None,\n",
       "  'taxonName': None,\n",
       "  'tsn': '183815'},\n",
       " 'jurisdictionalOriginList': {'class': 'gov.usgs.itis.itis_service.data.SvcTaxonJurisdictionalOriginList',\n",
       "  'jurisdictionalOrigins': [None],\n",
       "  'tsn': '183815'},\n",
       " 'kingdom': {'class': 'gov.usgs.itis.itis_service.data.SvcKingdomInfo',\n",
       "  'kingdomId': '5',\n",
       "  'kingdomName': 'Animalia  ',\n",
       "  'tsn': '183815'},\n",
       " 'otherSourceList': {'class': 'gov.usgs.itis.itis_service.data.SvcTaxonOtherSourceList',\n",
       "  'otherSources': [{'acquisitionDate': '1996-07-29',\n",
       "    'class': 'gov.usgs.itis.itis_service.data.SvcTaxonOtherSource',\n",
       "    'referenceFor': [{'class': 'gov.usgs.itis.itis_service.data.SvcReferenceForElement',\n",
       "      'name': 'Canis familiaris',\n",
       "      'refLanguage': None,\n",
       "      'referredTsn': '183815'}],\n",
       "    'source': 'NODC Taxonomic Code',\n",
       "    'sourceComment': '',\n",
       "    'sourceType': 'database',\n",
       "    'updateDate': '2010-01-14',\n",
       "    'version': '8.0'}],\n",
       "  'tsn': '183815'},\n",
       " 'parentTSN': {'class': 'gov.usgs.itis.itis_service.data.SvcParentTsn',\n",
       "  'parentTsn': '0',\n",
       "  'tsn': '183815'},\n",
       " 'publicationList': {'class': 'gov.usgs.itis.itis_service.data.SvcTaxonPublicationList',\n",
       "  'publications': [{'actualPubDate': '2005-10-01',\n",
       "    'class': 'gov.usgs.itis.itis_service.data.SvcTaxonPublication',\n",
       "    'isbn': '0-8018-8221-4',\n",
       "    'issn': '',\n",
       "    'listedPubDate': '2005-10-01',\n",
       "    'pages': '2142',\n",
       "    'pubComment': '',\n",
       "    'pubName': 'Mammal Species of the World: A Taxonomic and Geographic Reference, 3rd ed., vols. 1 & 2',\n",
       "    'pubPlace': 'Baltimore, Maryland, USA',\n",
       "    'publisher': 'Johns Hopkins University Press',\n",
       "    'referenceAuthor': 'Wilson, Don E., and DeeAnn M. Reeder, eds.',\n",
       "    'referenceFor': [{'class': 'gov.usgs.itis.itis_service.data.SvcReferenceForElement',\n",
       "      'name': 'Canis familiaris',\n",
       "      'refLanguage': None,\n",
       "      'referredTsn': '183815'}],\n",
       "    'title': '',\n",
       "    'updateDate': '2024-04-25'},\n",
       "   {'actualPubDate': '1993-01-01',\n",
       "    'class': 'gov.usgs.itis.itis_service.data.SvcTaxonPublication',\n",
       "    'isbn': '1-56098-217-9',\n",
       "    'issn': '',\n",
       "    'listedPubDate': '1992-01-01',\n",
       "    'pages': 'xviii + 1207',\n",
       "    'pubComment': 'Corrections were made to text at 3rd printing',\n",
       "    'pubName': 'Mammal Species of the World: A Taxonomic and Geographic Reference, 2nd ed., 3rd printing',\n",
       "    'pubPlace': 'Washington, DC, USA',\n",
       "    'publisher': 'Smithsonian Institution Press',\n",
       "    'referenceAuthor': 'Wilson, Don E., and DeeAnn M. Reeder, eds.',\n",
       "    'referenceFor': [{'class': 'gov.usgs.itis.itis_service.data.SvcReferenceForElement',\n",
       "      'name': 'Canis familiaris',\n",
       "      'refLanguage': None,\n",
       "      'referredTsn': '183815'}],\n",
       "    'title': '',\n",
       "    'updateDate': '2024-04-25'}],\n",
       "  'tsn': '183815'},\n",
       " 'scientificName': {'author': 'Linnaeus, 1758',\n",
       "  'class': 'gov.usgs.itis.itis_service.data.SvcScientificName',\n",
       "  'combinedName': 'Canis familiaris',\n",
       "  'kingdom': None,\n",
       "  'tsn': '183815',\n",
       "  'unitInd1': None,\n",
       "  'unitInd2': None,\n",
       "  'unitInd3': None,\n",
       "  'unitInd4': None,\n",
       "  'unitName1': 'Canis                              ',\n",
       "  'unitName2': 'familiaris',\n",
       "  'unitName3': None,\n",
       "  'unitName4': None},\n",
       " 'synonymList': {'class': 'gov.usgs.itis.itis_service.data.SvcSynonymNameList',\n",
       "  'synonyms': [None],\n",
       "  'tsn': '183815'},\n",
       " 'taxRank': {'class': 'gov.usgs.itis.itis_service.data.SvcTaxonRankInfo',\n",
       "  'kingdomId': '5',\n",
       "  'kingdomName': 'Animalia  ',\n",
       "  'rankId': '220',\n",
       "  'rankName': 'Species        ',\n",
       "  'tsn': '183815'},\n",
       " 'taxonAuthor': {'authorship': 'Linnaeus, 1758',\n",
       "  'class': 'gov.usgs.itis.itis_service.data.SvcTaxonAuthorship',\n",
       "  'tsn': '183815',\n",
       "  'updateDate': '2004-04-09'},\n",
       " 'tsn': '183815',\n",
       " 'unacceptReason': {'class': 'gov.usgs.itis.itis_service.data.SvcUnacceptData',\n",
       "  'tsn': '183815',\n",
       "  'unacceptReason': 'original name/combination'},\n",
       " 'usage': {'class': 'gov.usgs.itis.itis_service.data.SvcTaxonUsageData',\n",
       "  'taxonUsageRating': 'invalid',\n",
       "  'tsn': '183815'}}"
      ]
     },
     "execution_count": 371,
     "metadata": {},
     "output_type": "execute_result"
    }
   ],
   "execution_count": 371
  },
  {
   "metadata": {
    "ExecuteTime": {
     "end_time": "2024-06-23T14:29:37.780499Z",
     "start_time": "2024-06-23T14:29:36.952590Z"
    }
   },
   "cell_type": "code",
   "source": [
    "# Full taxonomic Hierarchy info about searched animal\n",
    "animal_data = requests.get(f\"http://www.itis.gov/ITISWebService/jsonservice/getFullHierarchyFromTSN?tsn={pruned_data[max_index[0]]['tsn']}\").json()\n",
    "animal_data"
   ],
   "id": "11ff8671d23d23c7",
   "outputs": [
    {
     "data": {
      "text/plain": [
       "{'author': '',\n",
       " 'class': 'gov.usgs.itis.itis_service.data.SvcHierarchyRecordList',\n",
       " 'hierarchyList': [{'author': 'Linnaeus, 1758',\n",
       "   'class': 'gov.usgs.itis.itis_service.data.SvcHierarchyRecord',\n",
       "   'parentName': '',\n",
       "   'parentTsn': '',\n",
       "   'rankName': 'Species',\n",
       "   'taxonName': 'Canis familiaris',\n",
       "   'tsn': '183815'}],\n",
       " 'rankName': '',\n",
       " 'sciName': '',\n",
       " 'tsn': '183815'}"
      ]
     },
     "execution_count": 372,
     "metadata": {},
     "output_type": "execute_result"
    }
   ],
   "execution_count": 372
  },
  {
   "metadata": {
    "ExecuteTime": {
     "end_time": "2024-06-23T14:29:38.613261Z",
     "start_time": "2024-06-23T14:29:37.781003Z"
    }
   },
   "cell_type": "code",
   "source": [
    "# Subspecies info about searched animal\n",
    "requests.get(f\"http://www.itis.gov/ITISWebService/jsonservice/getHierarchyDownFromTSN?tsn={pruned_data[max_index[0]]['tsn']}\").json()"
   ],
   "id": "6a24605e1fd9ff87",
   "outputs": [
    {
     "data": {
      "text/plain": [
       "{'author': '',\n",
       " 'class': 'gov.usgs.itis.itis_service.data.SvcHierarchyRecordList',\n",
       " 'hierarchyList': [None],\n",
       " 'rankName': '',\n",
       " 'sciName': '',\n",
       " 'tsn': '183815'}"
      ]
     },
     "execution_count": 373,
     "metadata": {},
     "output_type": "execute_result"
    }
   ],
   "execution_count": 373
  },
  {
   "metadata": {
    "ExecuteTime": {
     "end_time": "2024-06-23T14:29:38.617779Z",
     "start_time": "2024-06-23T14:29:38.615266Z"
    }
   },
   "cell_type": "code",
   "source": [
    "to_save_dict = {\n",
    "    'commonName': pruned_data[max_index[0]]['commonNames'][max_index[1]],\n",
    "    'scientificName': pruned_data[max_index[0]]['scientificName'],\n",
    "    'hierarchy': {}\n",
    "\n",
    "}"
   ],
   "id": "224515e3854e80cd",
   "outputs": [],
   "execution_count": 374
  },
  {
   "metadata": {
    "ExecuteTime": {
     "end_time": "2024-06-23T14:29:38.621706Z",
     "start_time": "2024-06-23T14:29:38.618784Z"
    }
   },
   "cell_type": "code",
   "source": [
    "already_seen = []\n",
    "duplicate_ranks = {}\n",
    "for x in animal_data['hierarchyList']:\n",
    "    if x['rankName'] not in already_seen:\n",
    "        already_seen.append(x['rankName'])\n",
    "    else:\n",
    "        duplicate_ranks[x['rankName']] = 0"
   ],
   "id": "a011fd32510483aa",
   "outputs": [],
   "execution_count": 375
  },
  {
   "metadata": {
    "ExecuteTime": {
     "end_time": "2024-06-23T14:29:38.624494Z",
     "start_time": "2024-06-23T14:29:38.622209Z"
    }
   },
   "cell_type": "code",
   "source": "duplicate_ranks",
   "id": "d46a3df20120b651",
   "outputs": [
    {
     "data": {
      "text/plain": [
       "{}"
      ]
     },
     "execution_count": 376,
     "metadata": {},
     "output_type": "execute_result"
    }
   ],
   "execution_count": 376
  },
  {
   "metadata": {
    "ExecuteTime": {
     "end_time": "2024-06-23T14:29:38.627031Z",
     "start_time": "2024-06-23T14:29:38.624997Z"
    }
   },
   "cell_type": "code",
   "source": [
    "for x in duplicate_ranks:\n",
    "    to_save_dict['hierarchy'][x] = []"
   ],
   "id": "6cfdae9205784c00",
   "outputs": [],
   "execution_count": 377
  },
  {
   "metadata": {
    "ExecuteTime": {
     "end_time": "2024-06-23T14:29:38.629733Z",
     "start_time": "2024-06-23T14:29:38.627534Z"
    }
   },
   "cell_type": "code",
   "source": "to_save_dict",
   "id": "31365f82d4bf1ea8",
   "outputs": [
    {
     "data": {
      "text/plain": [
       "{'commonName': 'domestic dog',\n",
       " 'scientificName': 'Canis familiaris',\n",
       " 'hierarchy': {}}"
      ]
     },
     "execution_count": 378,
     "metadata": {},
     "output_type": "execute_result"
    }
   ],
   "execution_count": 378
  },
  {
   "metadata": {
    "ExecuteTime": {
     "end_time": "2024-06-23T14:29:38.632200Z",
     "start_time": "2024-06-23T14:29:38.630236Z"
    }
   },
   "cell_type": "code",
   "source": [
    "for x in animal_data['hierarchyList']:\n",
    "    if x['rankName'] in duplicate_ranks:\n",
    "        to_save_dict['hierarchy'][x['rankName']].append(x['taxonName'])\n",
    "        continue\n",
    "    to_save_dict['hierarchy'][x['rankName']] = x['taxonName']"
   ],
   "id": "33c159f693006970",
   "outputs": [],
   "execution_count": 379
  },
  {
   "metadata": {
    "ExecuteTime": {
     "end_time": "2024-06-23T14:29:38.635264Z",
     "start_time": "2024-06-23T14:29:38.632702Z"
    }
   },
   "cell_type": "code",
   "source": "to_save_dict",
   "id": "7810136b7d2f186",
   "outputs": [
    {
     "data": {
      "text/plain": [
       "{'commonName': 'domestic dog',\n",
       " 'scientificName': 'Canis familiaris',\n",
       " 'hierarchy': {'Species': 'Canis familiaris'}}"
      ]
     },
     "execution_count": 380,
     "metadata": {},
     "output_type": "execute_result"
    }
   ],
   "execution_count": 380
  }
 ],
 "metadata": {
  "kernelspec": {
   "display_name": "Python 3",
   "language": "python",
   "name": "python3"
  },
  "language_info": {
   "codemirror_mode": {
    "name": "ipython",
    "version": 2
   },
   "file_extension": ".py",
   "mimetype": "text/x-python",
   "name": "python",
   "nbconvert_exporter": "python",
   "pygments_lexer": "ipython2",
   "version": "2.7.6"
  }
 },
 "nbformat": 4,
 "nbformat_minor": 5
}

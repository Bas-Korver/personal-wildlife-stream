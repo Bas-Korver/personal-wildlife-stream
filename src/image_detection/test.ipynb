{
 "cells": [
  {
   "cell_type": "code",
   "execution_count": 34,
   "metadata": {
    "ExecuteTime": {
     "end_time": "2023-12-06T18:04:02.527605900Z",
     "start_time": "2023-12-06T18:04:02.512536200Z"
    }
   },
   "outputs": [],
   "source": [
    "\n",
    "import json\n",
    "\n",
    "import cv2\n",
    "import torch"
   ]
  },
  {
   "cell_type": "code",
   "execution_count": 10,
   "metadata": {
    "ExecuteTime": {
     "end_time": "2023-12-06T17:25:20.357784600Z",
     "start_time": "2023-12-06T17:25:20.116021400Z"
    }
   },
   "outputs": [],
   "source": [
    "def get_frames_from_video(video_path, fps=1) -> list:\n",
    "    \"\"\"\n",
    "    Get frames from video with specified fps.\n",
    "\n",
    "    :param video_path: path to video.\n",
    "    :param fps: frames per second.\n",
    "    :return: list of frames.\n",
    "    \"\"\"\n",
    "\n",
    "    frames = []\n",
    "\n",
    "    video = cv2.VideoCapture(video_path)\n",
    "    video_fps = int(video.get(cv2.CAP_PROP_FPS))\n",
    "    video_frames = int(video.get(cv2.CAP_PROP_FRAME_COUNT))\n",
    "    fps_interval = video_fps // fps\n",
    "\n",
    "    for frame_i in range(0, video_frames, fps_interval):\n",
    "        video.set(cv2.CAP_PROP_POS_FRAMES, frame_i)\n",
    "        ret, frame = video.read()\n",
    "\n",
    "        if ret:\n",
    "            frames.append(frame)\n",
    "\n",
    "    video.release()\n",
    "\n",
    "    return frames"
   ]
  },
  {
   "cell_type": "code",
   "execution_count": 11,
   "metadata": {
    "ExecuteTime": {
     "end_time": "2023-12-06T17:25:23.148257500Z",
     "start_time": "2023-12-06T17:25:20.125880600Z"
    }
   },
   "outputs": [
    {
     "name": "stderr",
     "output_type": "stream",
     "text": [
      "Using cache found in C:\\Users\\Bas_K/.cache\\torch\\hub\\ultralytics_yolov5_master\n",
      "YOLOv5  2023-12-6 Python-3.11.5 torch-2.1.1 CUDA:0 (NVIDIA GeForce GTX 1060, 6144MiB)\n",
      "\n",
      "Fusing layers... \n",
      "Model summary: 322 layers, 86482948 parameters, 0 gradients, 204.7 GFLOPs\n",
      "Adding AutoShape... \n"
     ]
    },
    {
     "data": {
      "text/plain": "AutoShape(\n  (model): DetectMultiBackend(\n    (model): DetectionModel(\n      (model): Sequential(\n        (0): Conv(\n          (conv): Conv2d(3, 80, kernel_size=(6, 6), stride=(2, 2), padding=(2, 2))\n          (act): SiLU(inplace=True)\n        )\n        (1): Conv(\n          (conv): Conv2d(80, 160, kernel_size=(3, 3), stride=(2, 2), padding=(1, 1))\n          (act): SiLU(inplace=True)\n        )\n        (2): C3(\n          (cv1): Conv(\n            (conv): Conv2d(160, 80, kernel_size=(1, 1), stride=(1, 1))\n            (act): SiLU(inplace=True)\n          )\n          (cv2): Conv(\n            (conv): Conv2d(160, 80, kernel_size=(1, 1), stride=(1, 1))\n            (act): SiLU(inplace=True)\n          )\n          (cv3): Conv(\n            (conv): Conv2d(160, 160, kernel_size=(1, 1), stride=(1, 1))\n            (act): SiLU(inplace=True)\n          )\n          (m): Sequential(\n            (0): Bottleneck(\n              (cv1): Conv(\n                (conv): Conv2d(80, 80, kernel_size=(1, 1), stride=(1, 1))\n                (act): SiLU(inplace=True)\n              )\n              (cv2): Conv(\n                (conv): Conv2d(80, 80, kernel_size=(3, 3), stride=(1, 1), padding=(1, 1))\n                (act): SiLU(inplace=True)\n              )\n            )\n            (1): Bottleneck(\n              (cv1): Conv(\n                (conv): Conv2d(80, 80, kernel_size=(1, 1), stride=(1, 1))\n                (act): SiLU(inplace=True)\n              )\n              (cv2): Conv(\n                (conv): Conv2d(80, 80, kernel_size=(3, 3), stride=(1, 1), padding=(1, 1))\n                (act): SiLU(inplace=True)\n              )\n            )\n            (2): Bottleneck(\n              (cv1): Conv(\n                (conv): Conv2d(80, 80, kernel_size=(1, 1), stride=(1, 1))\n                (act): SiLU(inplace=True)\n              )\n              (cv2): Conv(\n                (conv): Conv2d(80, 80, kernel_size=(3, 3), stride=(1, 1), padding=(1, 1))\n                (act): SiLU(inplace=True)\n              )\n            )\n            (3): Bottleneck(\n              (cv1): Conv(\n                (conv): Conv2d(80, 80, kernel_size=(1, 1), stride=(1, 1))\n                (act): SiLU(inplace=True)\n              )\n              (cv2): Conv(\n                (conv): Conv2d(80, 80, kernel_size=(3, 3), stride=(1, 1), padding=(1, 1))\n                (act): SiLU(inplace=True)\n              )\n            )\n          )\n        )\n        (3): Conv(\n          (conv): Conv2d(160, 320, kernel_size=(3, 3), stride=(2, 2), padding=(1, 1))\n          (act): SiLU(inplace=True)\n        )\n        (4): C3(\n          (cv1): Conv(\n            (conv): Conv2d(320, 160, kernel_size=(1, 1), stride=(1, 1))\n            (act): SiLU(inplace=True)\n          )\n          (cv2): Conv(\n            (conv): Conv2d(320, 160, kernel_size=(1, 1), stride=(1, 1))\n            (act): SiLU(inplace=True)\n          )\n          (cv3): Conv(\n            (conv): Conv2d(320, 320, kernel_size=(1, 1), stride=(1, 1))\n            (act): SiLU(inplace=True)\n          )\n          (m): Sequential(\n            (0): Bottleneck(\n              (cv1): Conv(\n                (conv): Conv2d(160, 160, kernel_size=(1, 1), stride=(1, 1))\n                (act): SiLU(inplace=True)\n              )\n              (cv2): Conv(\n                (conv): Conv2d(160, 160, kernel_size=(3, 3), stride=(1, 1), padding=(1, 1))\n                (act): SiLU(inplace=True)\n              )\n            )\n            (1): Bottleneck(\n              (cv1): Conv(\n                (conv): Conv2d(160, 160, kernel_size=(1, 1), stride=(1, 1))\n                (act): SiLU(inplace=True)\n              )\n              (cv2): Conv(\n                (conv): Conv2d(160, 160, kernel_size=(3, 3), stride=(1, 1), padding=(1, 1))\n                (act): SiLU(inplace=True)\n              )\n            )\n            (2): Bottleneck(\n              (cv1): Conv(\n                (conv): Conv2d(160, 160, kernel_size=(1, 1), stride=(1, 1))\n                (act): SiLU(inplace=True)\n              )\n              (cv2): Conv(\n                (conv): Conv2d(160, 160, kernel_size=(3, 3), stride=(1, 1), padding=(1, 1))\n                (act): SiLU(inplace=True)\n              )\n            )\n            (3): Bottleneck(\n              (cv1): Conv(\n                (conv): Conv2d(160, 160, kernel_size=(1, 1), stride=(1, 1))\n                (act): SiLU(inplace=True)\n              )\n              (cv2): Conv(\n                (conv): Conv2d(160, 160, kernel_size=(3, 3), stride=(1, 1), padding=(1, 1))\n                (act): SiLU(inplace=True)\n              )\n            )\n            (4): Bottleneck(\n              (cv1): Conv(\n                (conv): Conv2d(160, 160, kernel_size=(1, 1), stride=(1, 1))\n                (act): SiLU(inplace=True)\n              )\n              (cv2): Conv(\n                (conv): Conv2d(160, 160, kernel_size=(3, 3), stride=(1, 1), padding=(1, 1))\n                (act): SiLU(inplace=True)\n              )\n            )\n            (5): Bottleneck(\n              (cv1): Conv(\n                (conv): Conv2d(160, 160, kernel_size=(1, 1), stride=(1, 1))\n                (act): SiLU(inplace=True)\n              )\n              (cv2): Conv(\n                (conv): Conv2d(160, 160, kernel_size=(3, 3), stride=(1, 1), padding=(1, 1))\n                (act): SiLU(inplace=True)\n              )\n            )\n            (6): Bottleneck(\n              (cv1): Conv(\n                (conv): Conv2d(160, 160, kernel_size=(1, 1), stride=(1, 1))\n                (act): SiLU(inplace=True)\n              )\n              (cv2): Conv(\n                (conv): Conv2d(160, 160, kernel_size=(3, 3), stride=(1, 1), padding=(1, 1))\n                (act): SiLU(inplace=True)\n              )\n            )\n            (7): Bottleneck(\n              (cv1): Conv(\n                (conv): Conv2d(160, 160, kernel_size=(1, 1), stride=(1, 1))\n                (act): SiLU(inplace=True)\n              )\n              (cv2): Conv(\n                (conv): Conv2d(160, 160, kernel_size=(3, 3), stride=(1, 1), padding=(1, 1))\n                (act): SiLU(inplace=True)\n              )\n            )\n          )\n        )\n        (5): Conv(\n          (conv): Conv2d(320, 640, kernel_size=(3, 3), stride=(2, 2), padding=(1, 1))\n          (act): SiLU(inplace=True)\n        )\n        (6): C3(\n          (cv1): Conv(\n            (conv): Conv2d(640, 320, kernel_size=(1, 1), stride=(1, 1))\n            (act): SiLU(inplace=True)\n          )\n          (cv2): Conv(\n            (conv): Conv2d(640, 320, kernel_size=(1, 1), stride=(1, 1))\n            (act): SiLU(inplace=True)\n          )\n          (cv3): Conv(\n            (conv): Conv2d(640, 640, kernel_size=(1, 1), stride=(1, 1))\n            (act): SiLU(inplace=True)\n          )\n          (m): Sequential(\n            (0): Bottleneck(\n              (cv1): Conv(\n                (conv): Conv2d(320, 320, kernel_size=(1, 1), stride=(1, 1))\n                (act): SiLU(inplace=True)\n              )\n              (cv2): Conv(\n                (conv): Conv2d(320, 320, kernel_size=(3, 3), stride=(1, 1), padding=(1, 1))\n                (act): SiLU(inplace=True)\n              )\n            )\n            (1): Bottleneck(\n              (cv1): Conv(\n                (conv): Conv2d(320, 320, kernel_size=(1, 1), stride=(1, 1))\n                (act): SiLU(inplace=True)\n              )\n              (cv2): Conv(\n                (conv): Conv2d(320, 320, kernel_size=(3, 3), stride=(1, 1), padding=(1, 1))\n                (act): SiLU(inplace=True)\n              )\n            )\n            (2): Bottleneck(\n              (cv1): Conv(\n                (conv): Conv2d(320, 320, kernel_size=(1, 1), stride=(1, 1))\n                (act): SiLU(inplace=True)\n              )\n              (cv2): Conv(\n                (conv): Conv2d(320, 320, kernel_size=(3, 3), stride=(1, 1), padding=(1, 1))\n                (act): SiLU(inplace=True)\n              )\n            )\n            (3): Bottleneck(\n              (cv1): Conv(\n                (conv): Conv2d(320, 320, kernel_size=(1, 1), stride=(1, 1))\n                (act): SiLU(inplace=True)\n              )\n              (cv2): Conv(\n                (conv): Conv2d(320, 320, kernel_size=(3, 3), stride=(1, 1), padding=(1, 1))\n                (act): SiLU(inplace=True)\n              )\n            )\n            (4): Bottleneck(\n              (cv1): Conv(\n                (conv): Conv2d(320, 320, kernel_size=(1, 1), stride=(1, 1))\n                (act): SiLU(inplace=True)\n              )\n              (cv2): Conv(\n                (conv): Conv2d(320, 320, kernel_size=(3, 3), stride=(1, 1), padding=(1, 1))\n                (act): SiLU(inplace=True)\n              )\n            )\n            (5): Bottleneck(\n              (cv1): Conv(\n                (conv): Conv2d(320, 320, kernel_size=(1, 1), stride=(1, 1))\n                (act): SiLU(inplace=True)\n              )\n              (cv2): Conv(\n                (conv): Conv2d(320, 320, kernel_size=(3, 3), stride=(1, 1), padding=(1, 1))\n                (act): SiLU(inplace=True)\n              )\n            )\n            (6): Bottleneck(\n              (cv1): Conv(\n                (conv): Conv2d(320, 320, kernel_size=(1, 1), stride=(1, 1))\n                (act): SiLU(inplace=True)\n              )\n              (cv2): Conv(\n                (conv): Conv2d(320, 320, kernel_size=(3, 3), stride=(1, 1), padding=(1, 1))\n                (act): SiLU(inplace=True)\n              )\n            )\n            (7): Bottleneck(\n              (cv1): Conv(\n                (conv): Conv2d(320, 320, kernel_size=(1, 1), stride=(1, 1))\n                (act): SiLU(inplace=True)\n              )\n              (cv2): Conv(\n                (conv): Conv2d(320, 320, kernel_size=(3, 3), stride=(1, 1), padding=(1, 1))\n                (act): SiLU(inplace=True)\n              )\n            )\n            (8): Bottleneck(\n              (cv1): Conv(\n                (conv): Conv2d(320, 320, kernel_size=(1, 1), stride=(1, 1))\n                (act): SiLU(inplace=True)\n              )\n              (cv2): Conv(\n                (conv): Conv2d(320, 320, kernel_size=(3, 3), stride=(1, 1), padding=(1, 1))\n                (act): SiLU(inplace=True)\n              )\n            )\n            (9): Bottleneck(\n              (cv1): Conv(\n                (conv): Conv2d(320, 320, kernel_size=(1, 1), stride=(1, 1))\n                (act): SiLU(inplace=True)\n              )\n              (cv2): Conv(\n                (conv): Conv2d(320, 320, kernel_size=(3, 3), stride=(1, 1), padding=(1, 1))\n                (act): SiLU(inplace=True)\n              )\n            )\n            (10): Bottleneck(\n              (cv1): Conv(\n                (conv): Conv2d(320, 320, kernel_size=(1, 1), stride=(1, 1))\n                (act): SiLU(inplace=True)\n              )\n              (cv2): Conv(\n                (conv): Conv2d(320, 320, kernel_size=(3, 3), stride=(1, 1), padding=(1, 1))\n                (act): SiLU(inplace=True)\n              )\n            )\n            (11): Bottleneck(\n              (cv1): Conv(\n                (conv): Conv2d(320, 320, kernel_size=(1, 1), stride=(1, 1))\n                (act): SiLU(inplace=True)\n              )\n              (cv2): Conv(\n                (conv): Conv2d(320, 320, kernel_size=(3, 3), stride=(1, 1), padding=(1, 1))\n                (act): SiLU(inplace=True)\n              )\n            )\n          )\n        )\n        (7): Conv(\n          (conv): Conv2d(640, 1280, kernel_size=(3, 3), stride=(2, 2), padding=(1, 1))\n          (act): SiLU(inplace=True)\n        )\n        (8): C3(\n          (cv1): Conv(\n            (conv): Conv2d(1280, 640, kernel_size=(1, 1), stride=(1, 1))\n            (act): SiLU(inplace=True)\n          )\n          (cv2): Conv(\n            (conv): Conv2d(1280, 640, kernel_size=(1, 1), stride=(1, 1))\n            (act): SiLU(inplace=True)\n          )\n          (cv3): Conv(\n            (conv): Conv2d(1280, 1280, kernel_size=(1, 1), stride=(1, 1))\n            (act): SiLU(inplace=True)\n          )\n          (m): Sequential(\n            (0): Bottleneck(\n              (cv1): Conv(\n                (conv): Conv2d(640, 640, kernel_size=(1, 1), stride=(1, 1))\n                (act): SiLU(inplace=True)\n              )\n              (cv2): Conv(\n                (conv): Conv2d(640, 640, kernel_size=(3, 3), stride=(1, 1), padding=(1, 1))\n                (act): SiLU(inplace=True)\n              )\n            )\n            (1): Bottleneck(\n              (cv1): Conv(\n                (conv): Conv2d(640, 640, kernel_size=(1, 1), stride=(1, 1))\n                (act): SiLU(inplace=True)\n              )\n              (cv2): Conv(\n                (conv): Conv2d(640, 640, kernel_size=(3, 3), stride=(1, 1), padding=(1, 1))\n                (act): SiLU(inplace=True)\n              )\n            )\n            (2): Bottleneck(\n              (cv1): Conv(\n                (conv): Conv2d(640, 640, kernel_size=(1, 1), stride=(1, 1))\n                (act): SiLU(inplace=True)\n              )\n              (cv2): Conv(\n                (conv): Conv2d(640, 640, kernel_size=(3, 3), stride=(1, 1), padding=(1, 1))\n                (act): SiLU(inplace=True)\n              )\n            )\n            (3): Bottleneck(\n              (cv1): Conv(\n                (conv): Conv2d(640, 640, kernel_size=(1, 1), stride=(1, 1))\n                (act): SiLU(inplace=True)\n              )\n              (cv2): Conv(\n                (conv): Conv2d(640, 640, kernel_size=(3, 3), stride=(1, 1), padding=(1, 1))\n                (act): SiLU(inplace=True)\n              )\n            )\n          )\n        )\n        (9): SPPF(\n          (cv1): Conv(\n            (conv): Conv2d(1280, 640, kernel_size=(1, 1), stride=(1, 1))\n            (act): SiLU(inplace=True)\n          )\n          (cv2): Conv(\n            (conv): Conv2d(2560, 1280, kernel_size=(1, 1), stride=(1, 1))\n            (act): SiLU(inplace=True)\n          )\n          (m): MaxPool2d(kernel_size=5, stride=1, padding=2, dilation=1, ceil_mode=False)\n        )\n        (10): Conv(\n          (conv): Conv2d(1280, 640, kernel_size=(1, 1), stride=(1, 1))\n          (act): SiLU(inplace=True)\n        )\n        (11): Upsample(scale_factor=2.0, mode='nearest')\n        (12): Concat()\n        (13): C3(\n          (cv1): Conv(\n            (conv): Conv2d(1280, 320, kernel_size=(1, 1), stride=(1, 1))\n            (act): SiLU(inplace=True)\n          )\n          (cv2): Conv(\n            (conv): Conv2d(1280, 320, kernel_size=(1, 1), stride=(1, 1))\n            (act): SiLU(inplace=True)\n          )\n          (cv3): Conv(\n            (conv): Conv2d(640, 640, kernel_size=(1, 1), stride=(1, 1))\n            (act): SiLU(inplace=True)\n          )\n          (m): Sequential(\n            (0): Bottleneck(\n              (cv1): Conv(\n                (conv): Conv2d(320, 320, kernel_size=(1, 1), stride=(1, 1))\n                (act): SiLU(inplace=True)\n              )\n              (cv2): Conv(\n                (conv): Conv2d(320, 320, kernel_size=(3, 3), stride=(1, 1), padding=(1, 1))\n                (act): SiLU(inplace=True)\n              )\n            )\n            (1): Bottleneck(\n              (cv1): Conv(\n                (conv): Conv2d(320, 320, kernel_size=(1, 1), stride=(1, 1))\n                (act): SiLU(inplace=True)\n              )\n              (cv2): Conv(\n                (conv): Conv2d(320, 320, kernel_size=(3, 3), stride=(1, 1), padding=(1, 1))\n                (act): SiLU(inplace=True)\n              )\n            )\n            (2): Bottleneck(\n              (cv1): Conv(\n                (conv): Conv2d(320, 320, kernel_size=(1, 1), stride=(1, 1))\n                (act): SiLU(inplace=True)\n              )\n              (cv2): Conv(\n                (conv): Conv2d(320, 320, kernel_size=(3, 3), stride=(1, 1), padding=(1, 1))\n                (act): SiLU(inplace=True)\n              )\n            )\n            (3): Bottleneck(\n              (cv1): Conv(\n                (conv): Conv2d(320, 320, kernel_size=(1, 1), stride=(1, 1))\n                (act): SiLU(inplace=True)\n              )\n              (cv2): Conv(\n                (conv): Conv2d(320, 320, kernel_size=(3, 3), stride=(1, 1), padding=(1, 1))\n                (act): SiLU(inplace=True)\n              )\n            )\n          )\n        )\n        (14): Conv(\n          (conv): Conv2d(640, 320, kernel_size=(1, 1), stride=(1, 1))\n          (act): SiLU(inplace=True)\n        )\n        (15): Upsample(scale_factor=2.0, mode='nearest')\n        (16): Concat()\n        (17): C3(\n          (cv1): Conv(\n            (conv): Conv2d(640, 160, kernel_size=(1, 1), stride=(1, 1))\n            (act): SiLU(inplace=True)\n          )\n          (cv2): Conv(\n            (conv): Conv2d(640, 160, kernel_size=(1, 1), stride=(1, 1))\n            (act): SiLU(inplace=True)\n          )\n          (cv3): Conv(\n            (conv): Conv2d(320, 320, kernel_size=(1, 1), stride=(1, 1))\n            (act): SiLU(inplace=True)\n          )\n          (m): Sequential(\n            (0): Bottleneck(\n              (cv1): Conv(\n                (conv): Conv2d(160, 160, kernel_size=(1, 1), stride=(1, 1))\n                (act): SiLU(inplace=True)\n              )\n              (cv2): Conv(\n                (conv): Conv2d(160, 160, kernel_size=(3, 3), stride=(1, 1), padding=(1, 1))\n                (act): SiLU(inplace=True)\n              )\n            )\n            (1): Bottleneck(\n              (cv1): Conv(\n                (conv): Conv2d(160, 160, kernel_size=(1, 1), stride=(1, 1))\n                (act): SiLU(inplace=True)\n              )\n              (cv2): Conv(\n                (conv): Conv2d(160, 160, kernel_size=(3, 3), stride=(1, 1), padding=(1, 1))\n                (act): SiLU(inplace=True)\n              )\n            )\n            (2): Bottleneck(\n              (cv1): Conv(\n                (conv): Conv2d(160, 160, kernel_size=(1, 1), stride=(1, 1))\n                (act): SiLU(inplace=True)\n              )\n              (cv2): Conv(\n                (conv): Conv2d(160, 160, kernel_size=(3, 3), stride=(1, 1), padding=(1, 1))\n                (act): SiLU(inplace=True)\n              )\n            )\n            (3): Bottleneck(\n              (cv1): Conv(\n                (conv): Conv2d(160, 160, kernel_size=(1, 1), stride=(1, 1))\n                (act): SiLU(inplace=True)\n              )\n              (cv2): Conv(\n                (conv): Conv2d(160, 160, kernel_size=(3, 3), stride=(1, 1), padding=(1, 1))\n                (act): SiLU(inplace=True)\n              )\n            )\n          )\n        )\n        (18): Conv(\n          (conv): Conv2d(320, 320, kernel_size=(3, 3), stride=(2, 2), padding=(1, 1))\n          (act): SiLU(inplace=True)\n        )\n        (19): Concat()\n        (20): C3(\n          (cv1): Conv(\n            (conv): Conv2d(640, 320, kernel_size=(1, 1), stride=(1, 1))\n            (act): SiLU(inplace=True)\n          )\n          (cv2): Conv(\n            (conv): Conv2d(640, 320, kernel_size=(1, 1), stride=(1, 1))\n            (act): SiLU(inplace=True)\n          )\n          (cv3): Conv(\n            (conv): Conv2d(640, 640, kernel_size=(1, 1), stride=(1, 1))\n            (act): SiLU(inplace=True)\n          )\n          (m): Sequential(\n            (0): Bottleneck(\n              (cv1): Conv(\n                (conv): Conv2d(320, 320, kernel_size=(1, 1), stride=(1, 1))\n                (act): SiLU(inplace=True)\n              )\n              (cv2): Conv(\n                (conv): Conv2d(320, 320, kernel_size=(3, 3), stride=(1, 1), padding=(1, 1))\n                (act): SiLU(inplace=True)\n              )\n            )\n            (1): Bottleneck(\n              (cv1): Conv(\n                (conv): Conv2d(320, 320, kernel_size=(1, 1), stride=(1, 1))\n                (act): SiLU(inplace=True)\n              )\n              (cv2): Conv(\n                (conv): Conv2d(320, 320, kernel_size=(3, 3), stride=(1, 1), padding=(1, 1))\n                (act): SiLU(inplace=True)\n              )\n            )\n            (2): Bottleneck(\n              (cv1): Conv(\n                (conv): Conv2d(320, 320, kernel_size=(1, 1), stride=(1, 1))\n                (act): SiLU(inplace=True)\n              )\n              (cv2): Conv(\n                (conv): Conv2d(320, 320, kernel_size=(3, 3), stride=(1, 1), padding=(1, 1))\n                (act): SiLU(inplace=True)\n              )\n            )\n            (3): Bottleneck(\n              (cv1): Conv(\n                (conv): Conv2d(320, 320, kernel_size=(1, 1), stride=(1, 1))\n                (act): SiLU(inplace=True)\n              )\n              (cv2): Conv(\n                (conv): Conv2d(320, 320, kernel_size=(3, 3), stride=(1, 1), padding=(1, 1))\n                (act): SiLU(inplace=True)\n              )\n            )\n          )\n        )\n        (21): Conv(\n          (conv): Conv2d(640, 640, kernel_size=(3, 3), stride=(2, 2), padding=(1, 1))\n          (act): SiLU(inplace=True)\n        )\n        (22): Concat()\n        (23): C3(\n          (cv1): Conv(\n            (conv): Conv2d(1280, 640, kernel_size=(1, 1), stride=(1, 1))\n            (act): SiLU(inplace=True)\n          )\n          (cv2): Conv(\n            (conv): Conv2d(1280, 640, kernel_size=(1, 1), stride=(1, 1))\n            (act): SiLU(inplace=True)\n          )\n          (cv3): Conv(\n            (conv): Conv2d(1280, 1280, kernel_size=(1, 1), stride=(1, 1))\n            (act): SiLU(inplace=True)\n          )\n          (m): Sequential(\n            (0): Bottleneck(\n              (cv1): Conv(\n                (conv): Conv2d(640, 640, kernel_size=(1, 1), stride=(1, 1))\n                (act): SiLU(inplace=True)\n              )\n              (cv2): Conv(\n                (conv): Conv2d(640, 640, kernel_size=(3, 3), stride=(1, 1), padding=(1, 1))\n                (act): SiLU(inplace=True)\n              )\n            )\n            (1): Bottleneck(\n              (cv1): Conv(\n                (conv): Conv2d(640, 640, kernel_size=(1, 1), stride=(1, 1))\n                (act): SiLU(inplace=True)\n              )\n              (cv2): Conv(\n                (conv): Conv2d(640, 640, kernel_size=(3, 3), stride=(1, 1), padding=(1, 1))\n                (act): SiLU(inplace=True)\n              )\n            )\n            (2): Bottleneck(\n              (cv1): Conv(\n                (conv): Conv2d(640, 640, kernel_size=(1, 1), stride=(1, 1))\n                (act): SiLU(inplace=True)\n              )\n              (cv2): Conv(\n                (conv): Conv2d(640, 640, kernel_size=(3, 3), stride=(1, 1), padding=(1, 1))\n                (act): SiLU(inplace=True)\n              )\n            )\n            (3): Bottleneck(\n              (cv1): Conv(\n                (conv): Conv2d(640, 640, kernel_size=(1, 1), stride=(1, 1))\n                (act): SiLU(inplace=True)\n              )\n              (cv2): Conv(\n                (conv): Conv2d(640, 640, kernel_size=(3, 3), stride=(1, 1), padding=(1, 1))\n                (act): SiLU(inplace=True)\n              )\n            )\n          )\n        )\n        (24): Detect(\n          (m): ModuleList(\n            (0): Conv2d(320, 156, kernel_size=(1, 1), stride=(1, 1))\n            (1): Conv2d(640, 156, kernel_size=(1, 1), stride=(1, 1))\n            (2): Conv2d(1280, 156, kernel_size=(1, 1), stride=(1, 1))\n          )\n        )\n      )\n    )\n  )\n)"
     },
     "execution_count": 11,
     "metadata": {},
     "output_type": "execute_result"
    }
   ],
   "source": [
    "DEVICE = torch.device(\"cuda:0\" if torch.cuda.is_available() else \"cpu\")\n",
    "# MODEL = torch.hub.load(\"ultralytics/yolov5\", \"yolov5x\")\n",
    "MODEL = torch.hub.load(\"ultralytics/yolov5\", \"custom\", \"./model_weights.pt\")\n",
    "MODEL.to(DEVICE)"
   ]
  },
  {
   "cell_type": "code",
   "execution_count": 12,
   "metadata": {
    "ExecuteTime": {
     "end_time": "2023-12-06T17:25:23.152256700Z",
     "start_time": "2023-12-06T17:25:23.076609400Z"
    }
   },
   "outputs": [],
   "source": [
    "STREAM_DOWNLOAD_LOCATION = \"../stream_downloader/streams\""
   ]
  },
  {
   "cell_type": "code",
   "execution_count": 45,
   "metadata": {
    "ExecuteTime": {
     "end_time": "2023-12-06T18:42:06.768120100Z",
     "start_time": "2023-12-06T18:42:06.758085600Z"
    }
   },
   "outputs": [],
   "source": [
    "videos = [\n",
    "    STREAM_DOWNLOAD_LOCATION + \"/HsLvnFQW_yM/20231202_115928.mp4\",\n",
    "    # STREAM_DOWNLOAD_LOCATION + \"/Ihr_nwydXi0/20231202_115928.mp4\",\n",
    "    # STREAM_DOWNLOAD_LOCATION + \"/yPSYdCWRWFA/20231202_115927.mp4\",\n",
    "]"
   ]
  },
  {
   "cell_type": "code",
   "execution_count": 14,
   "outputs": [],
   "source": [
    "frames = get_frames_from_video(videos[0], 1)"
   ],
   "metadata": {
    "collapsed": false,
    "ExecuteTime": {
     "end_time": "2023-12-06T17:25:26.707717100Z",
     "start_time": "2023-12-06T17:25:23.096728800Z"
    }
   }
  },
  {
   "cell_type": "code",
   "execution_count": 15,
   "outputs": [
    {
     "data": {
      "text/plain": "numpy.ndarray"
     },
     "execution_count": 15,
     "metadata": {},
     "output_type": "execute_result"
    }
   ],
   "source": [
    "type(frames[0])"
   ],
   "metadata": {
    "collapsed": false,
    "ExecuteTime": {
     "end_time": "2023-12-06T17:25:26.741830700Z",
     "start_time": "2023-12-06T17:25:26.709729400Z"
    }
   }
  },
  {
   "cell_type": "code",
   "execution_count": 47,
   "outputs": [],
   "source": [
    "for video in videos:\n",
    "    frames = get_frames_from_video(video, 1)"
   ],
   "metadata": {
    "collapsed": false,
    "ExecuteTime": {
     "end_time": "2023-12-06T18:42:48.625444600Z",
     "start_time": "2023-12-06T18:42:46.308672700Z"
    }
   }
  },
  {
   "cell_type": "code",
   "execution_count": 48,
   "outputs": [
    {
     "data": {
      "text/plain": "YOLOv5 <class 'models.common.Detections'> instance\nimage 1/15: 1080x1920 2 Sea lions, 3 Whales\nimage 2/15: 1080x1920 1 Sea lion\nimage 3/15: 1080x1920 1 Sea lion, 1 Whale\nimage 4/15: 1080x1920 1 Sea lion, 2 Whales\nimage 5/15: 1080x1920 3 Whales\nimage 6/15: 1080x1920 1 Sea lion, 1 Whale\nimage 7/15: 1080x1920 1 Polar bear, 1 Sea lion, 1 Whale\nimage 8/15: 1080x1920 1 Polar bear, 2 Whales\nimage 9/15: 1080x1920 1 Sea lion, 1 Whale\nimage 10/15: 1080x1920 1 Bear, 1 Sea lion, 1 Whale\nimage 11/15: 1080x1920 2 Sea lions, 2 Whales\nimage 12/15: 1080x1920 2 Sea lions, 1 Whale\nimage 13/15: 1080x1920 1 Monkey, 1 Penguin, 1 Whale\nimage 14/15: 1080x1920 1 Monkey\nimage 15/15: 1080x1920 1 Penguin\nSpeed: 2.5ms pre-process, 40.6ms inference, 5.8ms NMS per image at shape (15, 3, 384, 640)"
     },
     "execution_count": 48,
     "metadata": {},
     "output_type": "execute_result"
    }
   ],
   "source": [
    "MODEL(frames)"
   ],
   "metadata": {
    "collapsed": false,
    "ExecuteTime": {
     "end_time": "2023-12-06T18:42:51.330730700Z",
     "start_time": "2023-12-06T18:42:50.393019900Z"
    }
   }
  },
  {
   "cell_type": "code",
   "execution_count": 43,
   "metadata": {
    "ExecuteTime": {
     "end_time": "2023-12-06T18:18:38.057222300Z",
     "start_time": "2023-12-06T18:18:33.574184700Z"
    }
   },
   "outputs": [
    {
     "name": "stderr",
     "output_type": "stream",
     "text": [
      "Saved 1 image to \u001B[1mruns\\detect\\exp\u001B[0m\n",
      "Saved 1 image to \u001B[1mruns\\detect\\exp2\u001B[0m\n",
      "Saved 1 image to \u001B[1mruns\\detect\\exp3\u001B[0m\n",
      "Saved 1 image to \u001B[1mruns\\detect\\exp4\u001B[0m\n",
      "Saved 1 image to \u001B[1mruns\\detect\\exp5\u001B[0m\n",
      "Saved 1 image to \u001B[1mruns\\detect\\exp6\u001B[0m\n",
      "Saved 1 image to \u001B[1mruns\\detect\\exp7\u001B[0m\n",
      "Saved 1 image to \u001B[1mruns\\detect\\exp8\u001B[0m\n",
      "Saved 1 image to \u001B[1mruns\\detect\\exp9\u001B[0m\n",
      "Saved 1 image to \u001B[1mruns\\detect\\exp10\u001B[0m\n",
      "Saved 1 image to \u001B[1mruns\\detect\\exp11\u001B[0m\n",
      "Saved 1 image to \u001B[1mruns\\detect\\exp12\u001B[0m\n",
      "Saved 1 image to \u001B[1mruns\\detect\\exp13\u001B[0m\n",
      "Saved 1 image to \u001B[1mruns\\detect\\exp14\u001B[0m\n",
      "Saved 1 image to \u001B[1mruns\\detect\\exp15\u001B[0m\n"
     ]
    },
    {
     "name": "stdout",
     "output_type": "stream",
     "text": [
      "../stream_downloader/streams/HsLvnFQW_yM/20231202_115928.mp4:\n",
      " Animals: ['Polar bear', 'Sea lion', 'Whale', 'Bear', 'Monkey', 'Hippopotamus']\n",
      " Count: {'Polar bear': 1.8666666666666667, 'Sea lion': 0.26666666666666666, 'Whale': 0.26666666666666666, 'Bear': 0.26666666666666666, 'Monkey': 0.13333333333333333, 'Hippopotamus': 0.06666666666666667}\n",
      " Surfaces: {'Polar bear': 46235.19481799246, 'Sea lion': 5961.117777845555, 'Whale': 12082.980895255507, 'Bear': 5978.521441647255, 'Monkey': 4126.422238499252, 'Hippopotamus': 1824.7468914647898}\n"
     ]
    }
   ],
   "source": [
    "for video in videos:\n",
    "    frames = get_frames_from_video(video, 1)\n",
    "\n",
    "    animals = []\n",
    "    animal_count = {}\n",
    "    animal_surfaces = {}\n",
    "\n",
    "    for frame in frames:\n",
    "        frame = cv2.cvtColor(frame, cv2.COLOR_BGR2RGB)\n",
    "\n",
    "        results = MODEL(frame)\n",
    "\n",
    "        # results.show()\n",
    "        results.save()\n",
    "\n",
    "        findings = results.pandas().xyxy[0]\n",
    "        findings = findings[findings[\"confidence\"] >= 0.2]\n",
    "\n",
    "        for i in range(len(findings)):\n",
    "\n",
    "            if findings[\"name\"][i] not in animals:\n",
    "                animals.append(findings[\"name\"][i])\n",
    "\n",
    "                animal_count[findings[\"name\"][i]] = 0\n",
    "                animal_surfaces[findings[\"name\"][i]] = 0\n",
    "\n",
    "            animal_surfaces[findings[\"name\"][i]] += (findings[\"xmax\"][i] - findings[\"xmin\"][i]) * (\n",
    "                    findings[\"ymax\"][i] - findings[\"ymin\"][i]\n",
    "            )\n",
    "            animal_count[findings[\"name\"][i]] += 1\n",
    "\n",
    "    # Make counts and surfaces averages.\n",
    "    animal_count = {key: count / len(frames) for key, count in animal_count.items()}\n",
    "    animal_surfaces = {key: count / len(frames) for key, count in animal_surfaces.items()}\n",
    "\n",
    "    print(f\"{video}:\")\n",
    "    print(f\" Animals: {animals}\")\n",
    "    print(f\" Count: {animal_count}\")\n",
    "    print(f\" Surfaces: {animal_surfaces}\\n\")\n",
    "    \n",
    "    json_output = {\n",
    "        \"video\": video,\n",
    "        \"animals\": animals,\n",
    "        \"count\": animal_count,\n",
    "        \"surfaces\": animal_surfaces\n",
    "    }\n",
    "\n",
    "    with open(f\"./runs/statistics_{video.split('/')[3]}.json\", \"w\") as outfile:\n",
    "        json.dump(json_output, outfile)"
   ]
  }
 ],
 "metadata": {
  "kernelspec": {
   "display_name": "RP-2",
   "language": "python",
   "name": "python3"
  },
  "language_info": {
   "codemirror_mode": {
    "name": "ipython",
    "version": 3
   },
   "file_extension": ".py",
   "mimetype": "text/x-python",
   "name": "python",
   "nbconvert_exporter": "python",
   "pygments_lexer": "ipython3",
   "version": "3.10.13"
  }
 },
 "nbformat": 4,
 "nbformat_minor": 2
}

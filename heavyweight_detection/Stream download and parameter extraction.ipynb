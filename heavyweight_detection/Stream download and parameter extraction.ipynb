{
 "cells": [
  {
   "cell_type": "code",
   "execution_count": 1,
   "id": "1bed7a30",
   "metadata": {},
   "outputs": [],
   "source": [
    "import torch\n",
    "import cv2\n",
    "import yt_dlp as youtube_dl"
   ]
  },
  {
   "cell_type": "code",
   "execution_count": 2,
   "id": "726c1fc7",
   "metadata": {},
   "outputs": [
    {
     "name": "stderr",
     "output_type": "stream",
     "text": [
      "Using cache found in C:\\Users\\jules/.cache\\torch\\hub\\ultralytics_yolov5_master\n",
      "YOLOv5  2023-10-3 Python-3.11.4 torch-2.1.0 CUDA:0 (Quadro M1200, 4096MiB)\n",
      "\n",
      "Fusing layers... \n",
      "YOLOv5x summary: 444 layers, 86705005 parameters, 0 gradients, 205.5 GFLOPs\n",
      "Adding AutoShape... \n"
     ]
    }
   ],
   "source": [
    "#import model\n",
    "model = torch.hub.load('ultralytics/yolov5', 'yolov5x')  # You can choose different model sizes (s, m, l, x)"
   ]
  },
  {
   "cell_type": "code",
   "execution_count": 15,
   "id": "04873917",
   "metadata": {},
   "outputs": [
    {
     "name": "stdout",
     "output_type": "stream",
     "text": [
      "Empty DataFrame\n",
      "Columns: [xmin, ymin, xmax, ymax, confidence, class, name]\n",
      "Index: []\n",
      "Empty DataFrame\n",
      "Columns: [xmin, ymin, xmax, ymax, confidence, class, name]\n",
      "Index: []\n",
      "         xmin        ymin        xmax        ymax  confidence  class   name\n",
      "0  232.111786  407.247894  399.285339  519.097412    0.832815     18  sheep\n",
      "1  549.072876  359.766968  671.384949  483.128784    0.824528     18  sheep\n",
      "2  465.148376  386.007324  549.955017  506.769165    0.819392     18  sheep\n",
      "3  313.220032  355.866882  463.616455  463.745239    0.755645     18  sheep\n"
     ]
    }
   ],
   "source": [
    "#make a list with all the streams we want to use\n",
    "urls = [\"https://youtu.be/7MPm_fQJAhk\", 'https://youtu.be/1DaYe-1TkmM', 'https://youtu.be/K8TbCP3yeS4']\n",
    "\n",
    "#define confidence threshold\n",
    "confidence_threshold = 0.7\n",
    "\n",
    "#setup youtube_dl\n",
    "ydl_opts = {'format': 'best[ext=mp4]', 'quiet': True,} #best video quality, mp4 file, suppress console output\n",
    "ydl = youtube_dl.YoutubeDL(ydl_opts)\n",
    "\n",
    "for url in urls:\n",
    "    #change youtube url to url cv2 can process \n",
    "    info_dict = ydl.extract_info(url, download=False)\n",
    "    video_url = info_dict.get(\"url\") \n",
    "    \n",
    "    #setup video capture object that can read frames from the video stream \n",
    "    capture = cv2.VideoCapture(video_url)\n",
    "    ret, frame = capture.read() #ret gives a boolean whether a frame is available\n",
    "    \n",
    "    if (ret): \n",
    "        # Perform object detection\n",
    "        results = model(frame)\n",
    "\n",
    "        # Access detected objects and their information\n",
    "        findings = results.pandas().xyxy[0]\n",
    "        print(findings[findings['confidence'] >= confidence_threshold])\n",
    "\n",
    "        # Visualize the detection, should later be deleted\n",
    "        #results.show()\n",
    "    \n",
    "    else:\n",
    "        print('No frame available')\n",
    "\n",
    "    capture.release()"
   ]
  },
  {
   "cell_type": "code",
   "execution_count": null,
   "id": "90916b36",
   "metadata": {},
   "outputs": [],
   "source": []
  },
  {
   "cell_type": "code",
   "execution_count": null,
   "id": "55894aa4",
   "metadata": {},
   "outputs": [],
   "source": []
  }
 ],
 "metadata": {
  "kernelspec": {
   "display_name": "Python 3 (ipykernel)",
   "language": "python",
   "name": "python3"
  },
  "language_info": {
   "codemirror_mode": {
    "name": "ipython",
    "version": 3
   },
   "file_extension": ".py",
   "mimetype": "text/x-python",
   "name": "python",
   "nbconvert_exporter": "python",
   "pygments_lexer": "ipython3",
   "version": "3.11.4"
  }
 },
 "nbformat": 4,
 "nbformat_minor": 5
}
